{
 "cells": [
  {
   "cell_type": "code",
   "execution_count": 1,
   "id": "d5f6efc1-6a41-4147-9a55-6f976cdeebb5",
   "metadata": {},
   "outputs": [
    {
     "name": "stdin",
     "output_type": "stream",
     "text": [
      "나이를 입력하세요: 25\n"
     ]
    },
    {
     "name": "stdout",
     "output_type": "stream",
     "text": [
      "당신은 내년에 26 살입니다.\n"
     ]
    }
   ],
   "source": [
    "age= input(\"나이를 입력하세요:\")\n",
    "age= int(age)\n",
    "print(\"당신은 내년에\",age+1,\"살입니다.\")"
   ]
  },
  {
   "cell_type": "code",
   "execution_count": 2,
   "id": "2d4e9097-4f4a-44ec-a32c-1ac10e899eba",
   "metadata": {},
   "outputs": [
    {
     "name": "stdin",
     "output_type": "stream",
     "text": [
      "나이를 입력하세요: 123\n"
     ]
    },
    {
     "name": "stdout",
     "output_type": "stream",
     "text": [
      "당신은 내년에 124 살입니다.\n"
     ]
    }
   ],
   "source": [
    "age= input(\"나이를 입력하세요:\")\n",
    "age= int(age)\n",
    "age= age+1\n",
    "print(\"당신은 내년에\",age,\"살입니다.\")"
   ]
  },
  {
   "cell_type": "code",
   "execution_count": 3,
   "id": "5379b06a-4fa1-4ae3-8d66-f594698d29c9",
   "metadata": {},
   "outputs": [
    {
     "name": "stdin",
     "output_type": "stream",
     "text": [
      "나이를 입력하세요: 12\n"
     ]
    },
    {
     "name": "stdout",
     "output_type": "stream",
     "text": [
      "당신은 내년에 13 살입니다.\n"
     ]
    }
   ],
   "source": [
    "age= int(input(\"나이를 입력하세요:\"))\n",
    "print(\"당신은 내년에\",age+1,\"살입니다.\")"
   ]
  },
  {
   "cell_type": "code",
   "execution_count": 4,
   "id": "6fd11cf6-65b5-493f-9b25-4af23c54a59c",
   "metadata": {},
   "outputs": [
    {
     "name": "stdin",
     "output_type": "stream",
     "text": [
      "나이를 입력하세요: 12\n"
     ]
    },
    {
     "name": "stdout",
     "output_type": "stream",
     "text": [
      "당신은 내년에 13.0 살입니다.\n"
     ]
    }
   ],
   "source": [
    "age= float(input(\"나이를 입력하세요:\"))\n",
    "print(\"당신은 내년에\",age+1,\"살입니다.\")"
   ]
  },
  {
   "cell_type": "code",
   "execution_count": 6,
   "id": "c1554196-4c3f-46a0-92d0-c1c10556cfcc",
   "metadata": {},
   "outputs": [
    {
     "name": "stdin",
     "output_type": "stream",
     "text": [
      "나이를 입력하세요: 12\n"
     ]
    },
    {
     "name": "stdout",
     "output_type": "stream",
     "text": [
      "12살입니다.\n"
     ]
    }
   ],
   "source": [
    "age= int(input(\"나이를 입력하세요:\"))\n",
    "print(str(age)+\"살입니다.\")"
   ]
  },
  {
   "cell_type": "code",
   "execution_count": 14,
   "id": "6440056d-2654-4c1c-8272-549e6872e529",
   "metadata": {},
   "outputs": [
    {
     "name": "stdin",
     "output_type": "stream",
     "text": [
      "숫자를 입력하세요: 0\n"
     ]
    },
    {
     "name": "stdout",
     "output_type": "stream",
     "text": [
      "0\n"
     ]
    }
   ],
   "source": [
    "Number = input(\"숫자를 입력하세요:\")\n",
    "Number = int(Number)\n",
    "if Number > 0:print(\"양수입니다\")\n",
    "elif Number <0:print(\"음수입니다\")\n",
    "else :print(\"0\")"
   ]
  },
  {
   "cell_type": "code",
   "execution_count": 12,
   "id": "6e158748-d605-4e4a-b2f9-29151dcb70e5",
   "metadata": {},
   "outputs": [
    {
     "name": "stdin",
     "output_type": "stream",
     "text": [
      "숫자를 입력하세요: 5\n"
     ]
    },
    {
     "name": "stdout",
     "output_type": "stream",
     "text": [
      "홀수입니다\n"
     ]
    }
   ],
   "source": [
    "Number=int(input(\"숫자를 입력하세요:\"))\n",
    "if Number /2==0:print(\"짝수입니다\")\n",
    "else:print(\"홀수입니다\")"
   ]
  },
  {
   "cell_type": "code",
   "execution_count": 37,
   "id": "2c5de7c6-0b10-4055-a54f-8e551820652f",
   "metadata": {},
   "outputs": [
    {
     "name": "stdin",
     "output_type": "stream",
     "text": [
      " 2 2\n"
     ]
    },
    {
     "name": "stdout",
     "output_type": "stream",
     "text": [
      "무승부\n"
     ]
    }
   ],
   "source": [
    "a,b=map(int, input().split())\n",
    "if a==b:\n",
    "    print(\"무승부\")\n",
    "elif (a==1 and b==2) or (a==2 and b==3) or (a==3 and b==1):\n",
    "    print(\"B승A패\")\n",
    "elif (a==1 and b==3) or (a==2 and b==1) or (a==3 and b==2):\n",
    "    print(\"A승B패\")\n",
    "else:\n",
    "    print(\"잘못된 입력\")"
   ]
  },
  {
   "cell_type": "code",
   "execution_count": null,
   "id": "05005843-a877-492f-929b-0fe25d879b77",
   "metadata": {},
   "outputs": [],
   "source": []
  }
 ],
 "metadata": {
  "kernelspec": {
   "display_name": "Python 3 (ipykernel)",
   "language": "python",
   "name": "python3"
  },
  "language_info": {
   "codemirror_mode": {
    "name": "ipython",
    "version": 3
   },
   "file_extension": ".py",
   "mimetype": "text/x-python",
   "name": "python",
   "nbconvert_exporter": "python",
   "pygments_lexer": "ipython3",
   "version": "3.12.6"
  }
 },
 "nbformat": 4,
 "nbformat_minor": 5
}
