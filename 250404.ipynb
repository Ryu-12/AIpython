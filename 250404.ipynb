{
  "nbformat": 4,
  "nbformat_minor": 0,
  "metadata": {
    "colab": {
      "provenance": []
    },
    "kernelspec": {
      "name": "python3",
      "display_name": "Python 3"
    },
    "language_info": {
      "name": "python"
    }
  },
  "cells": [
    {
      "cell_type": "code",
      "execution_count": null,
      "metadata": {
        "colab": {
          "base_uri": "https://localhost:8080/"
        },
        "id": "I5YxNwH1WBFj",
        "outputId": "cf0f2322-46b0-42d3-c1c4-61dbcc2bc496"
      },
      "outputs": [
        {
          "output_type": "stream",
          "name": "stdout",
          "text": [
            "온도 종류(섭씨 또는 화씨): 화씨\n",
            "화씨 온도: 12\n",
            "섭씨 온도 -11.11\n"
          ]
        }
      ],
      "source": [
        "kind = input('온도 종류(섭씨 또는 화씨): ')\n",
        "temp = int(input(kind+' 온도: '))\n",
        "\n",
        "if kind == '섭씨':\n",
        "    print(f'화씨 온도 {temp*9/5+32:.2f}')\n",
        "else:\n",
        "    print(f'섭씨 온도 {(temp-32)*5/9:.2f}')"
      ]
    },
    {
      "cell_type": "code",
      "source": [
        "import random\n",
        "\n",
        "print('1부터 100까지의 수 하나를 정했습니다.')\n",
        "print('이 숫자를 맞혀보세요')\n",
        "\n",
        "answer= random.randint(1,100)\n",
        "times = 0\n",
        "\n",
        "while True:\n",
        "  user = int(input('1~100 숫자 입력: '))\n",
        "  times +=1\n",
        "  if user ==answer:\n",
        "    break\n",
        "  elif user <answer:\n",
        "    print(f'{user}보다 큽니다.')\n",
        "  else:\n",
        "    print(f'{user}보다 작습니다.')\n",
        "\n",
        "print(f'정답입니다! {times}회 만에 맞혔습니다')"
      ],
      "metadata": {
        "colab": {
          "base_uri": "https://localhost:8080/"
        },
        "id": "I2BEUaqxdVV4",
        "outputId": "d407e616-d7e2-42fb-c221-e8c70d0b13a4"
      },
      "execution_count": null,
      "outputs": [
        {
          "output_type": "stream",
          "name": "stdout",
          "text": [
            "1부터 100까지의 수 하나를 정했습니다.\n",
            "이 숫자를 맞혀보세요\n",
            "1~100 숫자 입력: 72\n",
            "72보다 큽니다.\n",
            "1~100 숫자 입력: 88\n",
            "88보다 작습니다.\n",
            "1~100 숫자 입력: 80\n",
            "80보다 작습니다.\n",
            "1~100 숫자 입력: 75\n",
            "75보다 큽니다.\n",
            "1~100 숫자 입력: 77\n",
            "정답입니다! 5회 만에 맞혔습니다\n"
          ]
        }
      ]
    },
    {
      "cell_type": "code",
      "source": [
        "import random\n",
        "List = []\n",
        "\n",
        "for i in range(1, 7):\n",
        "    num=random.randint(1,45)\n",
        "    List.append(num)\n",
        "\n",
        "print(List)"
      ],
      "metadata": {
        "colab": {
          "base_uri": "https://localhost:8080/"
        },
        "id": "omQixVsTfS64",
        "outputId": "5d0b1309-8c9d-4fb6-83ad-b1cf33189943"
      },
      "execution_count": null,
      "outputs": [
        {
          "output_type": "stream",
          "name": "stdout",
          "text": [
            "[43, 22, 7, 2, 22, 10]\n"
          ]
        }
      ]
    },
    {
      "cell_type": "code",
      "source": [
        "성적 = [85, 92, 78, 90, 87]\n",
        "평균 = sum(성적) / len(성적)"
      ],
      "metadata": {
        "id": "_uGgPlRduXlM"
      },
      "execution_count": 33,
      "outputs": []
    },
    {
      "cell_type": "code",
      "source": [
        "평균"
      ],
      "metadata": {
        "colab": {
          "base_uri": "https://localhost:8080/"
        },
        "id": "v_9pTgenucb8",
        "outputId": "3f238b03-675e-4ebe-c9ac-7fe1073d703a"
      },
      "execution_count": 34,
      "outputs": [
        {
          "output_type": "execute_result",
          "data": {
            "text/plain": [
              "86.4"
            ]
          },
          "metadata": {},
          "execution_count": 34
        }
      ]
    },
    {
      "cell_type": "code",
      "source": [
        "성적 = [85, 92, 78, 90, 87]\n",
        "Average = ((85+92+78+90+87)/5)\n",
        "print(Average)"
      ],
      "metadata": {
        "colab": {
          "base_uri": "https://localhost:8080/"
        },
        "id": "5XrT88Amuc_O",
        "outputId": "f2f56cc6-4f91-48c7-bcfb-c7718183f476"
      },
      "execution_count": 35,
      "outputs": [
        {
          "output_type": "stream",
          "name": "stdout",
          "text": [
            "86.4\n"
          ]
        }
      ]
    },
    {
      "cell_type": "code",
      "source": [
        "성적 = [85, 92, 78, 90, 87]\n",
        "총합 = 0\n",
        "평균 = 0.0\n",
        "항목수 = 0\n",
        "for 점수 in 성적:\n",
        "    총합 += 점수\n",
        "    항목수+=1\n",
        "평균=총합/항목수\n",
        ""
      ],
      "metadata": {
        "id": "8DDkbe2TuvH1"
      },
      "execution_count": 42,
      "outputs": []
    },
    {
      "cell_type": "code",
      "source": [
        "평균"
      ],
      "metadata": {
        "colab": {
          "base_uri": "https://localhost:8080/"
        },
        "id": "6oWmEp01v8Be",
        "outputId": "38533e03-bb35-4471-9e7d-0a623c868b61"
      },
      "execution_count": 43,
      "outputs": [
        {
          "output_type": "execute_result",
          "data": {
            "text/plain": [
              "86.4"
            ]
          },
          "metadata": {},
          "execution_count": 43
        }
      ]
    },
    {
      "cell_type": "code",
      "source": [
        "총합"
      ],
      "metadata": {
        "colab": {
          "base_uri": "https://localhost:8080/"
        },
        "id": "cU6WOEWpwAVT",
        "outputId": "3f9da8e8-3a85-47bf-af58-9a0c7ed70ee2"
      },
      "execution_count": 40,
      "outputs": [
        {
          "output_type": "execute_result",
          "data": {
            "text/plain": [
              "87"
            ]
          },
          "metadata": {},
          "execution_count": 40
        }
      ]
    },
    {
      "cell_type": "code",
      "source": [
        "학생들 = [(\"철수\", 85), (\"영희\", 92), (\"민수\", 65), (\"지영\", 78)]\n",
        "합격자 = []\n",
        "\n",
        "for 학생, 점수 in 학생들:\n",
        "    if 점수 >= 70:\n",
        "        합격자.append(학생)\n",
        "\n",
        "print(합격자)  # ['철수', '영희', '지영']"
      ],
      "metadata": {
        "colab": {
          "base_uri": "https://localhost:8080/"
        },
        "id": "D1HA_9iawHFe",
        "outputId": "90e2d41c-9722-4583-f7e5-841abddce9cb"
      },
      "execution_count": 41,
      "outputs": [
        {
          "output_type": "stream",
          "name": "stdout",
          "text": [
            "['철수', '영희', '지영']\n"
          ]
        }
      ]
    },
    {
      "cell_type": "code",
      "source": [
        "fruits = [\"망고\", \"복숭아\", \"딸기\"]\n",
        "print(f\"과일 리스트: {fruits}\")"
      ],
      "metadata": {
        "colab": {
          "base_uri": "https://localhost:8080/"
        },
        "id": "ht0rCLwQxP-L",
        "outputId": "3868cece-e994-428f-9f7e-8b7f4f3f92b0"
      },
      "execution_count": 45,
      "outputs": [
        {
          "output_type": "stream",
          "name": "stdout",
          "text": [
            "과일 리스트: ['망고', '복숭아', '딸기']\n"
          ]
        }
      ]
    },
    {
      "cell_type": "code",
      "source": [
        "first_fruit = fruits[0]\n",
        "print(f\"첫 번째 과일: {first_fruit}\")\n"
      ],
      "metadata": {
        "colab": {
          "base_uri": "https://localhost:8080/"
        },
        "id": "jMCBK3UUxij0",
        "outputId": "1d5785f1-9042-4f55-a6ed-a3f9410cf81e"
      },
      "execution_count": 46,
      "outputs": [
        {
          "output_type": "stream",
          "name": "stdout",
          "text": [
            "첫 번째 과일: 망고\n"
          ]
        }
      ]
    },
    {
      "cell_type": "code",
      "source": [
        "last_fruit = fruits[-1]\n",
        "print(f\"마지막 과일: {last_fruit}\")\n"
      ],
      "metadata": {
        "colab": {
          "base_uri": "https://localhost:8080/"
        },
        "id": "4kDAMKimxz0D",
        "outputId": "c45ee60d-f42b-4cec-ec94-a664bdf9f578"
      },
      "execution_count": 47,
      "outputs": [
        {
          "output_type": "stream",
          "name": "stdout",
          "text": [
            "마지막 과일: 딸기\n"
          ]
        }
      ]
    },
    {
      "cell_type": "code",
      "source": [
        "fruits.append(\"오렌지\")\n",
        "print(f\"요소 추가 후 리스트: {fruits}\")\n"
      ],
      "metadata": {
        "colab": {
          "base_uri": "https://localhost:8080/"
        },
        "id": "bj_ncO_0x2fz",
        "outputId": "d03266f1-0eda-4467-f1fb-a5f81cf02a41"
      },
      "execution_count": 48,
      "outputs": [
        {
          "output_type": "stream",
          "name": "stdout",
          "text": [
            "요소 추가 후 리스트: ['망고', '복숭아', '딸기', '오렌지']\n"
          ]
        }
      ]
    },
    {
      "cell_type": "code",
      "source": [
        "fruits.remove(\"딸기\")\n",
        "print(f\"요소 삭제 후 리스트: {fruits}\")\n"
      ],
      "metadata": {
        "colab": {
          "base_uri": "https://localhost:8080/"
        },
        "id": "pdb5kgB4yBLT",
        "outputId": "753c8123-d03a-468d-994c-66bcb2020221"
      },
      "execution_count": 49,
      "outputs": [
        {
          "output_type": "stream",
          "name": "stdout",
          "text": [
            "요소 삭제 후 리스트: ['망고', '복숭아', '오렌지']\n"
          ]
        }
      ]
    },
    {
      "cell_type": "code",
      "source": [
        "numbers = [1, 7, 13, 27, 42]\n",
        "print(\"숫자 리스트의 요소:\")\n",
        "for num in numbers:\n",
        "  print(num)"
      ],
      "metadata": {
        "colab": {
          "base_uri": "https://localhost:8080/"
        },
        "id": "FTXdhtWdyGqc",
        "outputId": "c875df8e-4127-4b47-8298-8d3a95319387"
      },
      "execution_count": 52,
      "outputs": [
        {
          "output_type": "stream",
          "name": "stdout",
          "text": [
            "숫자 리스트의 요소:\n",
            "1\n",
            "7\n",
            "13\n",
            "27\n",
            "42\n"
          ]
        }
      ]
    },
    {
      "cell_type": "code",
      "source": [
        "# 문제 4: 리스트 요소 값 변경\n",
        "colors = [\"빨강\", \"초록\", \"파랑\"]\n",
        "print(f\"원래 색깔 리스트: {colors}\")\n",
        "colors[1] = \"노랑\" # 인덱스 1의 \"초록\"을 \"노랑\"으로 변경\n",
        "print(f\"요소 변경 후 색깔 리스트: {colors}\")"
      ],
      "metadata": {
        "colab": {
          "base_uri": "https://localhost:8080/"
        },
        "id": "yXKlPCm_yO6M",
        "outputId": "b3124a5f-155f-472f-8c7d-26ab1a55080c"
      },
      "execution_count": 53,
      "outputs": [
        {
          "output_type": "stream",
          "name": "stdout",
          "text": [
            "원래 색깔 리스트: ['빨강', '초록', '파랑']\n",
            "요소 변경 후 색깔 리스트: ['빨강', '노랑', '파랑']\n"
          ]
        }
      ]
    },
    {
      "cell_type": "code",
      "source": [
        "list1 = [1, 2, 3]\n",
        "list2 = [4, 5, 6]\n",
        "print(f\"첫 번째 리스트: {list1}\")\n",
        "print(f\"두 번째 리스트: {list2}\")\n",
        "# 방법 1: + 연산자 사용\n",
        "combined_list_plus = list1 + list2\n",
        "print(f\"두 리스트 합치기 (+) 결과: {combined_list_plus}\")\n",
        "# 방법 2: extend() 메서드 사용\n",
        "list1.extend(list2)\n",
        "print(f\"첫 번째 리스트에 두 번째 리스트 확장 (extend()): {list1}\")\n"
      ],
      "metadata": {
        "colab": {
          "base_uri": "https://localhost:8080/"
        },
        "id": "7XS9OatdyybC",
        "outputId": "ac49c91b-971d-40a6-b7b2-c5ee16e3cdb6"
      },
      "execution_count": 54,
      "outputs": [
        {
          "output_type": "stream",
          "name": "stdout",
          "text": [
            "첫 번째 리스트: [1, 2, 3]\n",
            "두 번째 리스트: [4, 5, 6]\n",
            "두 리스트 합치기 (+) 결과: [1, 2, 3, 4, 5, 6]\n",
            "첫 번째 리스트에 두 번째 리스트 확장 (extend()): [1, 2, 3, 4, 5, 6]\n"
          ]
        }
      ]
    }
  ]
}