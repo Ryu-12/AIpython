{
  "nbformat": 4,
  "nbformat_minor": 0,
  "metadata": {
    "colab": {
      "provenance": []
    },
    "kernelspec": {
      "name": "python3",
      "display_name": "Python 3"
    },
    "language_info": {
      "name": "python"
    }
  },
  "cells": [
    {
      "cell_type": "code",
      "execution_count": 17,
      "metadata": {
        "colab": {
          "base_uri": "https://localhost:8080/"
        },
        "id": "-lam9CkWZOUZ",
        "outputId": "dc61b556-9335-4d5c-a6ca-37ba0ff81984"
      },
      "outputs": [
        {
          "output_type": "stream",
          "name": "stdout",
          "text": [
            "010601-4720512\n"
          ]
        }
      ],
      "source": [
        "id = \"010601-4720512\"\n",
        "print (id)"
      ]
    },
    {
      "cell_type": "code",
      "source": [
        "print (id[7])"
      ],
      "metadata": {
        "colab": {
          "base_uri": "https://localhost:8080/"
        },
        "id": "OxY4YoAhicmX",
        "outputId": "3d4c43bb-e45a-44cf-a599-221cd8bd5eba"
      },
      "execution_count": 34,
      "outputs": [
        {
          "output_type": "stream",
          "name": "stdout",
          "text": [
            "4\n"
          ]
        }
      ]
    },
    {
      "cell_type": "code",
      "source": [
        "if id[7]== '1' or id[7]== '3':\n",
        "    print(\"남성입니다\")\n",
        "else:\n",
        "    print(\"여성입니다\")"
      ],
      "metadata": {
        "colab": {
          "base_uri": "https://localhost:8080/"
        },
        "id": "sZE_w4wvhAto",
        "outputId": "2d9e12f9-0150-44fd-bea6-8a9348c9c213"
      },
      "execution_count": 37,
      "outputs": [
        {
          "output_type": "stream",
          "name": "stdout",
          "text": [
            "여성입니다\n"
          ]
        }
      ]
    },
    {
      "cell_type": "code",
      "source": [
        "s1 = input('문자열: ')\n",
        "s2= ''\n",
        "\n",
        "for i in range(len(s1)-1, -1, -1):\n",
        "  s2=s2+ s1[i]\n",
        "\n",
        "if s1 == s2:\n",
        "  print('회문')\n",
        "else:\n",
        "  print('회문아님')"
      ],
      "metadata": {
        "colab": {
          "base_uri": "https://localhost:8080/"
        },
        "id": "ZQrfTxGqkSBw",
        "outputId": "0617e053-a459-4e67-fd48-f7b91d661931"
      },
      "execution_count": 39,
      "outputs": [
        {
          "output_type": "stream",
          "name": "stdout",
          "text": [
            "문자열: aca\n",
            "회문\n"
          ]
        }
      ]
    },
    {
      "cell_type": "code",
      "source": [
        "s= '부산시 금정구'\n",
        "print(s.split(' '))"
      ],
      "metadata": {
        "colab": {
          "base_uri": "https://localhost:8080/"
        },
        "id": "3PLrgx7mkvFR",
        "outputId": "4058043d-22e3-4f7b-8a0e-a54658826718"
      },
      "execution_count": 41,
      "outputs": [
        {
          "output_type": "stream",
          "name": "stdout",
          "text": [
            "['부산시', '금정구']\n"
          ]
        }
      ]
    },
    {
      "cell_type": "code",
      "source": [
        "List= ['부산시', '금정구']\n",
        "print('/'.join(List))"
      ],
      "metadata": {
        "colab": {
          "base_uri": "https://localhost:8080/"
        },
        "id": "RIaoOw2coyya",
        "outputId": "cc563212-4133-4630-c13e-64884be02a46"
      },
      "execution_count": 48,
      "outputs": [
        {
          "output_type": "stream",
          "name": "stdout",
          "text": [
            "부산시/금정구\n"
          ]
        }
      ]
    },
    {
      "cell_type": "code",
      "source": [
        "#사용자로부터 비밀번호 입력 받기\n",
        "password = input('비밀번호를 입력하세요: ')\n",
        "while password.isalnum() == True:\n",
        "  password = input('비밀번호를 다시 입력하세요: ')\n",
        "  break\n",
        "print(\"비밀번호가 저장되었습니다\")"
      ],
      "metadata": {
        "colab": {
          "base_uri": "https://localhost:8080/"
        },
        "id": "_Oo4szK2pLUC",
        "outputId": "aba9177d-8cac-4d21-adce-96995ef2d939"
      },
      "execution_count": 55,
      "outputs": [
        {
          "output_type": "stream",
          "name": "stdout",
          "text": [
            "비밀번호를 입력하세요: 123123\n",
            "비밀번호를 다시 입력하세요: @12312\n",
            "비밀번호가 저장되었습니다\n"
          ]
        }
      ]
    },
    {
      "cell_type": "code",
      "source": [],
      "metadata": {
        "id": "M0Tio1g8rAkq"
      },
      "execution_count": null,
      "outputs": []
    }
  ]
}