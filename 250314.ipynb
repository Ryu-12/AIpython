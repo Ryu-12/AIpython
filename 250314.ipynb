{
  "nbformat": 4,
  "nbformat_minor": 0,
  "metadata": {
    "colab": {
      "provenance": []
    },
    "kernelspec": {
      "name": "python3",
      "display_name": "Python 3"
    },
    "language_info": {
      "name": "python"
    }
  },
  "cells": [
    {
      "cell_type": "code",
      "execution_count": 7,
      "metadata": {
        "colab": {
          "base_uri": "https://localhost:8080/"
        },
        "id": "o2PAmso6dbsD",
        "outputId": "b9d8e1cf-884c-46f4-f8f2-ef7b04794d1a"
      },
      "outputs": [
        {
          "output_type": "stream",
          "name": "stdout",
          "text": [
            "반지름이 5인 원의 면적은 78.5398 입니다\n"
          ]
        }
      ],
      "source": [
        "#원의 면적을 구하시오\n",
        "N=5\n",
        "F=3.141592\n",
        "\n",
        "M=N*N*F\n",
        "print(\"반지름이 5인 원의 면적은\", M, \"입니다\")"
      ]
    },
    {
      "cell_type": "code",
      "source": [
        "#분을 시간과 분으로 변환하여 출력하시오\n",
        "M=100\n",
        "m=M-60\n",
        "H=1\n",
        "print(str(M)+\"분은\", str(H)+ \"시간\", str(m)+ \"분 입니다\")"
      ],
      "metadata": {
        "colab": {
          "base_uri": "https://localhost:8080/"
        },
        "id": "TNzAQE7veQYE",
        "outputId": "67e8757b-842f-4528-b151-50a0bc26dce5"
      },
      "execution_count": 19,
      "outputs": [
        {
          "output_type": "stream",
          "name": "stdout",
          "text": [
            "100분은 1시간 40분 입니다\n"
          ]
        }
      ]
    },
    {
      "cell_type": "code",
      "source": [],
      "metadata": {
        "id": "jkBkoKkRf3gR"
      },
      "execution_count": null,
      "outputs": []
    }
  ]
}