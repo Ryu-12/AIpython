{
  "nbformat": 4,
  "nbformat_minor": 0,
  "metadata": {
    "colab": {
      "provenance": []
    },
    "kernelspec": {
      "name": "python3",
      "display_name": "Python 3"
    },
    "language_info": {
      "name": "python"
    }
  },
  "cells": [
    {
      "cell_type": "code",
      "execution_count": 3,
      "metadata": {
        "colab": {
          "base_uri": "https://localhost:8080/"
        },
        "id": "nbiGpd_IS4jI",
        "outputId": "1d099398-2b97-45c9-c29e-e25bd3873c04"
      },
      "outputs": [
        {
          "output_type": "stream",
          "name": "stdout",
          "text": [
            "첫 번째 정수를 입력하세요: 1234\n",
            "두 번째 정수를 입력하세요: 12\n",
            "1234은(는) 12보다 큽니다.\n"
          ]
        }
      ],
      "source": [
        "num1 = int(input(\"첫 번째 정수를 입력하세요: \"))\n",
        "num2 = int(input(\"두 번째 정수를 입력하세요: \"))\n",
        "\n",
        "if num1 > num2:\n",
        "  print(f\"{num1}은(는) {num2}보다 큽니다.\")\n",
        "elif num1 < num2:\n",
        "  print(f\"{num1}은(는) {num2}보다 작습니다.\")\n",
        "else:\n",
        "  print(f\"{num1}과(와) {num2}은(는) 같습니다.\")\n"
      ]
    },
    {
      "cell_type": "code",
      "source": [
        "num1 = int(input(\"첫 번째 정수를 입력하세요: \"))\n",
        "print(f\"첫 번째 수: {num1}\")\n",
        "num2 = int(input(\"두 번째 정수를 입력하세요: \"))\n",
        "print(f\"두 번째 수: {num2}\")\n",
        "num3 = int(input(\"세 번째 정수를 입력하세요: \"))\n",
        "print(f\"세 번째 수: {num3}\")\n",
        "max_num = num1\n",
        "if num2 > max_num:\n",
        "  print(f\"두 번째 수 {num2}가 현재 최대값 {max_num}보다 큽니다. 최대값을 업데이트합니다.\")\n",
        "  max_num = num2\n",
        "else:\n",
        "  print(f\"두 번째 수 {num2}는 현재 최대값 {max_num}보다 크지 않습니다.\")\n",
        "if num3 > max_num:\n",
        "  print(f\"세 번째 수 {num3}가 현재 최대값 {max_num}보다 큽니다. 최대값을 업데이트합니다.\")\n",
        "  max_num = num3\n",
        "else:\n",
        "  print(f\"세 번째 수 {num3}는 현재 최대값 {max_num}보다 크지 않습니다.\")\n",
        "\n",
        "print(f\"입력하신 세 수 {num1}, {num2}, {num3} 중에서 가장 큰 수는 {max_num}입니다.\")"
      ],
      "metadata": {
        "colab": {
          "base_uri": "https://localhost:8080/"
        },
        "id": "GK---AVjY8Pz",
        "outputId": "f170e3aa-d998-4776-fa75-0a17224a79ba"
      },
      "execution_count": 16,
      "outputs": [
        {
          "output_type": "stream",
          "name": "stdout",
          "text": [
            "첫 번째 정수를 입력하세요: 1\n",
            "첫 번째 수: 1\n",
            "두 번째 정수를 입력하세요: 2\n",
            "두 번째 수: 2\n",
            "세 번째 정수를 입력하세요: 3\n",
            "세 번째 수: 3\n",
            "두 번째 수 2가 현재 최대값 1보다 큽니다. 최대값을 업데이트합니다.\n",
            "세 번째 수 3가 현재 최대값 2보다 큽니다. 최대값을 업데이트합니다.\n",
            "입력하신 세 수 1, 2, 3 중에서 가장 큰 수는 3입니다.\n"
          ]
        }
      ]
    },
    {
      "cell_type": "code",
      "source": [],
      "metadata": {
        "id": "v4ZAa98ic7-x"
      },
      "execution_count": null,
      "outputs": []
    },
    {
      "cell_type": "code",
      "source": [
        "score = int(input(\"시험 점수 (0~100)를 입력하세요 : \"))\n",
        "if 0 <= score <= 100:\n",
        "  if score >= 90:\n",
        "    grade = \"A\"\n",
        "  elif score >= 80:\n",
        "    grade = \"B\"\n",
        "  elif score >= 70:\n",
        "    grade = \"C\"\n",
        "  elif score >= 60:\n",
        "    grade = \"D\"\n",
        "  else:\n",
        "    grade = \"F\"\n",
        "  print(f\"당신의 학점은 {grade}입니다.\")\n",
        "else:\n",
        "  print(\"유효하지 않은 점수입니다. 0~100 사이의 점수를 입력하세요.\")"
      ],
      "metadata": {
        "colab": {
          "base_uri": "https://localhost:8080/"
        },
        "id": "ArzhL5J9c8yI",
        "outputId": "939918e9-f60a-40cf-c0e3-c2b2505392e1"
      },
      "execution_count": 25,
      "outputs": [
        {
          "output_type": "stream",
          "name": "stdout",
          "text": [
            "시험 점수 (0~100)를 입력하세요 : 78\n",
            "당신의 학점은 C입니다.\n"
          ]
        }
      ]
    },
    {
      "cell_type": "code",
      "source": [
        "year = int(input(\"연도를 입력하세요: \"))\n",
        "if (year % 4 == 0 and year % 100 != 0) or (year % 400 == 0):\n",
        "  print(f\"{year}년은 윤년입니다.\")\n",
        "else:\n",
        "  print(f\"{year}년은 윤년이 아닙니다.\")"
      ],
      "metadata": {
        "colab": {
          "base_uri": "https://localhost:8080/"
        },
        "id": "ePIMcIEOdPz6",
        "outputId": "2a280a20-59cc-4935-943c-bbdd584f557d"
      },
      "execution_count": 29,
      "outputs": [
        {
          "output_type": "stream",
          "name": "stdout",
          "text": [
            "연도를 입력하세요: 4000\n",
            "4000년은 윤년입니다.\n"
          ]
        }
      ]
    },
    {
      "cell_type": "code",
      "source": [
        "for i in range(1,7,2):\n",
        "  print(\"반복!\", i)"
      ],
      "metadata": {
        "colab": {
          "base_uri": "https://localhost:8080/"
        },
        "id": "dravL-HWlTzF",
        "outputId": "e8393aef-a13c-4ce2-e51f-40b4a0102ccc"
      },
      "execution_count": 35,
      "outputs": [
        {
          "output_type": "stream",
          "name": "stdout",
          "text": [
            "반복! 1\n",
            "반복! 3\n",
            "반복! 5\n"
          ]
        }
      ]
    },
    {
      "cell_type": "code",
      "source": [
        "count = 0\n",
        "while count < 3:\n",
        "  print(\"반복 중:\", count)\n",
        "  count += 1"
      ],
      "metadata": {
        "colab": {
          "base_uri": "https://localhost:8080/"
        },
        "id": "c7Bn5pTBm0tO",
        "outputId": "4de266af-0461-4cbc-c9a1-239b1cc21dba"
      },
      "execution_count": 36,
      "outputs": [
        {
          "output_type": "stream",
          "name": "stdout",
          "text": [
            "반복 중: 0\n",
            "반복 중: 1\n",
            "반복 중: 2\n"
          ]
        }
      ]
    },
    {
      "cell_type": "code",
      "source": [
        "n = int(input(\"양의 정수N을 입력하세요: \"))\n",
        "if n <= 0:\n",
        "  print(\"양의 정수를 입력하세요.\")\n",
        "else:\n",
        "  sum = 0\n",
        "  for i in range(1, n+1):\n",
        "    sum += i\n",
        "  print(f\"1부터 {n}까지의 합은 {sum}입니다.\")"
      ],
      "metadata": {
        "colab": {
          "base_uri": "https://localhost:8080/"
        },
        "id": "dQpXVWC9nuAr",
        "outputId": "0fd00bf9-f064-4e4e-d7a7-1086b72312a8"
      },
      "execution_count": 42,
      "outputs": [
        {
          "output_type": "stream",
          "name": "stdout",
          "text": [
            "양의 정수N을 입력하세요: 5\n",
            "1부터 5까지의 합은 15입니다.\n"
          ]
        }
      ]
    },
    {
      "cell_type": "code",
      "source": [
        "count = 0\n",
        "print(\"0부터 9까지 출력:\")\n",
        "while count < 10:\n",
        "  print(count)\n",
        "  count += 1\n",
        "print(\"while 루프 종료\")"
      ],
      "metadata": {
        "colab": {
          "base_uri": "https://localhost:8080/"
        },
        "id": "WFDgALktrrxy",
        "outputId": "67099854-a694-44d4-aeea-c603b91871ad"
      },
      "execution_count": 43,
      "outputs": [
        {
          "output_type": "stream",
          "name": "stdout",
          "text": [
            "0부터 9까지 출력:\n",
            "0\n",
            "1\n",
            "2\n",
            "3\n",
            "4\n",
            "5\n",
            "6\n",
            "7\n",
            "8\n",
            "9\n",
            "while 루프 종료\n"
          ]
        }
      ]
    },
    {
      "cell_type": "code",
      "source": [
        "print(\"0부터 9까지 출력:\")\n",
        "for i in range(10):\n",
        "  print(i)\n",
        "print(\"for 루프 종료\")"
      ],
      "metadata": {
        "colab": {
          "base_uri": "https://localhost:8080/"
        },
        "id": "1WRw9pmosWHC",
        "outputId": "684f73d7-f6c6-4f55-e30d-3e80487b0b45"
      },
      "execution_count": 52,
      "outputs": [
        {
          "output_type": "stream",
          "name": "stdout",
          "text": [
            "0부터 9까지 출력:\n",
            "0\n",
            "1\n",
            "2\n",
            "3\n",
            "4\n",
            "5\n",
            "6\n",
            "7\n",
            "8\n",
            "9\n",
            "for 루프 종료\n"
          ]
        }
      ]
    }
  ]
}