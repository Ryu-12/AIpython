{
  "nbformat": 4,
  "nbformat_minor": 0,
  "metadata": {
    "colab": {
      "provenance": []
    },
    "kernelspec": {
      "name": "python3",
      "display_name": "Python 3"
    },
    "language_info": {
      "name": "python"
    }
  },
  "cells": [
    {
      "cell_type": "code",
      "execution_count": null,
      "metadata": {
        "id": "GV1bB8CRbtxc"
      },
      "outputs": [],
      "source": [
        "#딕셔너리 생성 및 요소 접근\n",
        "#딕셔너리도 하나의 리스트 키와 값/키와 값/키와 값 n개의값이 있는 리스트라고 볼 수 있다.\n",
        "#items 매서드는 모든 키와 값 쌍을 순회한다."
      ]
    },
    {
      "cell_type": "code",
      "source": [
        "#문제 1: 딕셔너리 생성 및 요소 접근\n",
        "student = {'name': '김민수', 'age': '20', 'major': '컴퓨터공학'}\n",
        "print(f\"학생 정보 딕셔너리: {student}\")"
      ],
      "metadata": {
        "colab": {
          "base_uri": "https://localhost:8080/"
        },
        "id": "jQveaqpOeH91",
        "outputId": "266e48ec-8e49-40cf-84f6-8e5208caf30d"
      },
      "execution_count": null,
      "outputs": [
        {
          "output_type": "stream",
          "name": "stdout",
          "text": [
            "학생 정보 딕셔너리: {'name': '김민수', 'age': '20', 'major': '컴퓨터공학'}\n"
          ]
        }
      ]
    },
    {
      "cell_type": "code",
      "source": [
        "name = student['name']\n",
        "print(f\"이름: {name}\")"
      ],
      "metadata": {
        "colab": {
          "base_uri": "https://localhost:8080/"
        },
        "id": "00NTbVmIehNN",
        "outputId": "6f8da21a-a4e2-43d4-a79d-b498398023d1"
      },
      "execution_count": null,
      "outputs": [
        {
          "output_type": "stream",
          "name": "stdout",
          "text": [
            "이름: 김민수\n"
          ]
        }
      ]
    },
    {
      "cell_type": "code",
      "source": [
        "age = student['age']\n",
        "print(f\"나이: {age}\")"
      ],
      "metadata": {
        "colab": {
          "base_uri": "https://localhost:8080/"
        },
        "id": "a50Mv761eozN",
        "outputId": "df3263ee-dd7d-4ed1-c373-887f624fc2ef"
      },
      "execution_count": null,
      "outputs": [
        {
          "output_type": "stream",
          "name": "stdout",
          "text": [
            "나이: 20\n"
          ]
        }
      ]
    },
    {
      "cell_type": "code",
      "source": [
        "major = student['major']\n",
        "print(f\"전공: {major}\")"
      ],
      "metadata": {
        "colab": {
          "base_uri": "https://localhost:8080/"
        },
        "id": "AIScIQ90ervt",
        "outputId": "51409b19-6bc6-47ef-ad19-c067d673ee7e"
      },
      "execution_count": null,
      "outputs": [
        {
          "output_type": "stream",
          "name": "stdout",
          "text": [
            "전공: 컴퓨터공학\n"
          ]
        }
      ]
    },
    {
      "cell_type": "code",
      "source": [
        "#문제 2: 딕셔너리 요소 추가 및 삭제\n",
        "student = {'name': '김민수', 'age': '20', 'major': '컴퓨터공학'}\n",
        "print(f\"원래 학생 정보 딕셔너리: {student}\")"
      ],
      "metadata": {
        "colab": {
          "base_uri": "https://localhost:8080/"
        },
        "id": "XJSDvTHzeuaN",
        "outputId": "fe2cd038-787f-48c3-a779-619776dfc9d9"
      },
      "execution_count": null,
      "outputs": [
        {
          "output_type": "stream",
          "name": "stdout",
          "text": [
            "원래 학생 정보 딕셔너리: {'name': '김민수', 'age': '20', 'major': '컴퓨터공학'}\n"
          ]
        }
      ]
    },
    {
      "cell_type": "code",
      "source": [
        "student['grade'] = 4.0 #새로운 키 'grade'와 값 추가\n",
        "print(f\"요소 추가 후 딕셔너리: {student}\")"
      ],
      "metadata": {
        "colab": {
          "base_uri": "https://localhost:8080/"
        },
        "id": "Bv6ZoUvne-R8",
        "outputId": "516055a2-4b30-4126-fd8c-f89174f718a2"
      },
      "execution_count": null,
      "outputs": [
        {
          "output_type": "stream",
          "name": "stdout",
          "text": [
            "요소 추가 후 딕셔너리: {'name': '김민수', 'age': '20', 'major': '컴퓨터공학', 'grade': 4.0}\n"
          ]
        }
      ]
    },
    {
      "cell_type": "code",
      "source": [
        "del student['major'] #키 'major'와 값 삭제\n",
        "print(f\"요소 삭제 후 딕셔너리: {student}\")"
      ],
      "metadata": {
        "colab": {
          "base_uri": "https://localhost:8080/"
        },
        "id": "5l6kK92kfJit",
        "outputId": "59949010-950f-453b-d07d-47d617a59162"
      },
      "execution_count": null,
      "outputs": [
        {
          "output_type": "stream",
          "name": "stdout",
          "text": [
            "요소 삭제 후 딕셔너리: {'name': '김민수', 'age': '20', 'grade': 4.0}\n"
          ]
        }
      ]
    },
    {
      "cell_type": "code",
      "source": [
        "#문제 3: 딕셔너리 키와 값 순회하며 출력\n",
        "fruit_prices = {'사과': 1500,'바나나': 800,'딸기': 3000,'오렌지': 1200}\n",
        "print(\"과일 가격 정보:\")\n",
        "for fruit, price in fruit_prices.items():\n",
        "  print(f\"{fruit}: {price}원\")\n"
      ],
      "metadata": {
        "colab": {
          "base_uri": "https://localhost:8080/"
        },
        "id": "hmN7XS0YfT2d",
        "outputId": "bee41732-126a-465e-e146-49b4123a88f8"
      },
      "execution_count": null,
      "outputs": [
        {
          "output_type": "stream",
          "name": "stdout",
          "text": [
            "과일 가격 정보:\n",
            "사과: 1500원\n",
            "바나나: 800원\n",
            "딸기: 3000원\n",
            "오렌지: 1200원\n"
          ]
        }
      ]
    },
    {
      "cell_type": "code",
      "source": [
        "print(\"\\n과일 목록:\")\n",
        "for fruit in fruit_prices.keys():\n",
        "  print(fruit)"
      ],
      "metadata": {
        "colab": {
          "base_uri": "https://localhost:8080/"
        },
        "id": "JsqYPzHNgR3E",
        "outputId": "0bc604e7-1442-4151-cc66-635d7ef7d6ff"
      },
      "execution_count": null,
      "outputs": [
        {
          "output_type": "stream",
          "name": "stdout",
          "text": [
            "\n",
            "과일 목록:\n",
            "사과\n",
            "바나나\n",
            "딸기\n",
            "오렌지\n"
          ]
        }
      ]
    },
    {
      "cell_type": "code",
      "source": [
        "print(\"\\n가격 목록:\")\n",
        "for price in fruit_prices.values():\n",
        "    print(f\"{price}원\")"
      ],
      "metadata": {
        "colab": {
          "base_uri": "https://localhost:8080/"
        },
        "id": "ylH34SLUgUUN",
        "outputId": "028fec3f-b23b-45fd-8227-00ac0c96d3fa"
      },
      "execution_count": null,
      "outputs": [
        {
          "output_type": "stream",
          "name": "stdout",
          "text": [
            "\n",
            "가격 목록:\n",
            "1500원\n",
            "800원\n",
            "3000원\n",
            "1200원\n"
          ]
        }
      ]
    },
    {
      "cell_type": "code",
      "source": [
        "#문제 4; 딕셔너리 요소 값 변경\n",
        "fruit_prices = {'사과': 1500,'바나나': 800,'딸기': 3000,'오렌지': 1200}\n",
        "print(f\"원래 과일 가격 딕셔너리: {fruit_prices}\")"
      ],
      "metadata": {
        "colab": {
          "base_uri": "https://localhost:8080/"
        },
        "id": "z7-6O6l-gsid",
        "outputId": "bac56b09-efa4-4ec0-e272-bd4b0f6c3dca"
      },
      "execution_count": null,
      "outputs": [
        {
          "output_type": "stream",
          "name": "stdout",
          "text": [
            "원래 과일 가격 딕셔너리: {'사과': 1500, '바나나': 800, '딸기': 3000, '오렌지': 1200}\n"
          ]
        }
      ]
    },
    {
      "cell_type": "code",
      "source": [
        "fruit_prices['사과'] = 1800\n",
        "print(f\"가격 변경 후 과일 가격 딕셔너리: {fruit_prices}\")"
      ],
      "metadata": {
        "colab": {
          "base_uri": "https://localhost:8080/"
        },
        "id": "nzYKF7ugg8DM",
        "outputId": "22d8bf8f-de94-447c-c2ae-5d75a258886b"
      },
      "execution_count": null,
      "outputs": [
        {
          "output_type": "stream",
          "name": "stdout",
          "text": [
            "가격 변경 후 과일 가격 딕셔너리: {'사과': 1800, '바나나': 800, '딸기': 3000, '오렌지': 1200}\n"
          ]
        }
      ]
    },
    {
      "cell_type": "code",
      "source": [
        "#문제 5: 두 개의 딕셔너리 합치기\n",
        "dict1 = {'a': 1, 'b': 2, 'c': 3}\n",
        "dict2 = {'b': 4, 'd':5}\n",
        "print(f\"첫 번째 딕셔너리: {dict1}\")\n",
        "print(f\"두 번째 딕셔너리: {dict2}\")"
      ],
      "metadata": {
        "colab": {
          "base_uri": "https://localhost:8080/"
        },
        "id": "0Mh_xH7WhBS8",
        "outputId": "e1b03232-687c-4ba4-b5df-d0d44b3126af"
      },
      "execution_count": null,
      "outputs": [
        {
          "output_type": "stream",
          "name": "stdout",
          "text": [
            "첫 번째 딕셔너리: {'a': 1, 'b': 2, 'c': 3}\n",
            "두 번째 딕셔너리: {'b': 4, 'd': 5}\n"
          ]
        }
      ]
    },
    {
      "cell_type": "code",
      "source": [
        "dict1.update(dict2)\n",
        "print(f\"두 딕셔너리 합치기 (update() 결과): {dict1}\")"
      ],
      "metadata": {
        "colab": {
          "base_uri": "https://localhost:8080/"
        },
        "id": "SHo7G0owg_ct",
        "outputId": "1973ae0b-b6d4-4d6f-eb30-7aca7c1922ae"
      },
      "execution_count": null,
      "outputs": [
        {
          "output_type": "stream",
          "name": "stdout",
          "text": [
            "두 딕셔너리 합치기 (update() 결과): {'a': 1, 'b': 4, 'c': 3, 'd': 5}\n"
          ]
        }
      ]
    },
    {
      "cell_type": "code",
      "source": [
        "A, B = map(int, input().split())\n",
        "print(A + B)"
      ],
      "metadata": {
        "colab": {
          "base_uri": "https://localhost:8080/"
        },
        "id": "9iJUeL1qkHT0",
        "outputId": "4f966aa7-d431-4a06-9f03-1d2af0731512"
      },
      "execution_count": null,
      "outputs": [
        {
          "output_type": "stream",
          "name": "stdout",
          "text": [
            "1 2\n",
            "3\n"
          ]
        }
      ]
    },
    {
      "cell_type": "code",
      "source": [
        "H = float(input())\n",
        "W = float(input())\n",
        "BMI = W/((H/100)**2)\n",
        "print(round(BMI,2))"
      ],
      "metadata": {
        "colab": {
          "base_uri": "https://localhost:8080/"
        },
        "id": "oHSPfovaorkc",
        "outputId": "5e747747-079a-4722-ab7e-80470a446943"
      },
      "execution_count": null,
      "outputs": [
        {
          "output_type": "stream",
          "name": "stdout",
          "text": [
            "156\n",
            "12\n",
            "4.93\n"
          ]
        }
      ]
    }
  ]
}